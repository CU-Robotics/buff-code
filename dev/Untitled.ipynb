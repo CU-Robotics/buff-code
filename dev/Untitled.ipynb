{
 "cells": [
  {
   "cell_type": "markdown",
   "metadata": {},
   "source": [
    "# Image Processing\n",
    "\n",
    "this notebook is used to test and design functions for the vision pipeline. It it currently based on building basic pipeline functionalities: capture images, load data, parse data, save data and display data."
   ]
  },
  {
   "cell_type": "code",
   "execution_count": 4,
   "metadata": {},
   "outputs": [],
   "source": [
    "import os\n",
    "import cv2\n",
    "import numpy"
   ]
  },
  {
   "cell_type": "code",
   "execution_count": 7,
   "metadata": {},
   "outputs": [],
   "source": [
    "def parse_XML_data():\n",
    "    raise 'NOT_IMPLEMENTED'\n",
    "\n",
    "def load_images(file_path):\n",
    "    images = []\n",
    "    labels = []\n",
    "    for file in os.listdir(file_path):\n",
    "        if file[:3] == 'jpg':\n",
    "            images.append(cv.imread(f'../data/{file}'))\n",
    "        elif file[:3] == 'xml':\n",
    "            labels.append(parse_XML_data)\n",
    "            \n",
    "    return images, labels"
   ]
  },
  {
   "cell_type": "code",
   "execution_count": 8,
   "metadata": {},
   "outputs": [
    {
     "name": "stdout",
     "output_type": "stream",
     "text": [
      "962.jpg\n",
      "954.jpg\n",
      "956.jpg\n",
      "963.jpg\n",
      "983.jpg\n",
      "981.jpg\n",
      "966.jpg\n",
      "967.jpg\n",
      "975.jpg\n",
      "955.jpg\n",
      "979.jpg\n",
      "953.jpg\n",
      "984.jpg\n",
      "973.jpg\n",
      "959.jpg\n",
      "951.jpg\n",
      "968.jpg\n",
      "970.jpg\n",
      "980.jpg\n",
      "958.jpg\n",
      "976.jpg\n",
      "985.jpg\n",
      "965.jpg\n",
      "977.jpg\n",
      "957.jpg\n",
      "960.jpg\n",
      "950.jpg\n",
      "972.jpg\n",
      "982.jpg\n",
      "978.jpg\n",
      "964.jpg\n",
      "961.jpg\n",
      "969.jpg\n",
      "952.jpg\n",
      "971.jpg\n",
      "974.jpg\n"
     ]
    },
    {
     "data": {
      "text/plain": [
       "([], [])"
      ]
     },
     "execution_count": 8,
     "metadata": {},
     "output_type": "execute_result"
    }
   ],
   "source": [
    "load_images('../data')"
   ]
  },
  {
   "cell_type": "code",
   "execution_count": null,
   "metadata": {},
   "outputs": [],
   "source": []
  }
 ],
 "metadata": {
  "kernelspec": {
   "display_name": "Python 3",
   "language": "python",
   "name": "python3"
  },
  "language_info": {
   "codemirror_mode": {
    "name": "ipython",
    "version": 3
   },
   "file_extension": ".py",
   "mimetype": "text/x-python",
   "name": "python",
   "nbconvert_exporter": "python",
   "pygments_lexer": "ipython3",
   "version": "3.8.10"
  }
 },
 "nbformat": 4,
 "nbformat_minor": 4
}
